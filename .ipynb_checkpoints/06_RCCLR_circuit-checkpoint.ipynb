{
 "cells": [
  {
   "cell_type": "markdown",
   "metadata": {},
   "source": [
    "# RCCLR circuit (State Space Representation)\n",
    "### author: Juan M. Acevedo-Valle\n",
    "### date: 24/Mar/2018"
   ]
  },
  {
   "cell_type": "code",
   "execution_count": 3,
   "metadata": {
    "collapsed": true
   },
   "outputs": [],
   "source": [
    "import control\n",
    "import numpy as np"
   ]
  },
  {
   "cell_type": "code",
   "execution_count": 4,
   "metadata": {
    "collapsed": true
   },
   "outputs": [],
   "source": [
    "A = np.array([[-1,0,-1],[0,0,1],[1,-1,-1]])\n",
    "B = np.array([[1],[0],[0]])\n",
    "C = np.eye(3,3)\n",
    "D = 0*B"
   ]
  },
  {
   "cell_type": "code",
   "execution_count": 5,
   "metadata": {
    "collapsed": true
   },
   "outputs": [],
   "source": [
    "ss = control.ss(A,B,C,D)"
   ]
  },
  {
   "cell_type": "code",
   "execution_count": 6,
   "metadata": {},
   "outputs": [
    {
     "name": "stdout",
     "output_type": "stream",
     "text": [
      "\n",
      "Input 1 to output 1:\n",
      "     s^2 + s + 1\n",
      "---------------------\n",
      "s^3 + 2 s^2 + 3 s + 1\n",
      "\n",
      "Input 1 to output 2:\n",
      "          1\n",
      "---------------------\n",
      "s^3 + 2 s^2 + 3 s + 1\n",
      "\n",
      "Input 1 to output 3:\n",
      "     s + 1.11e-16\n",
      "---------------------\n",
      "s^3 + 2 s^2 + 3 s + 1\n",
      "\n"
     ]
    }
   ],
   "source": [
    "print(control.ss2tf(ss))"
   ]
  }
 ],
 "metadata": {
  "kernelspec": {
   "display_name": "Python 2",
   "language": "python",
   "name": "python2"
  },
  "language_info": {
   "codemirror_mode": {
    "name": "ipython",
    "version": 2
   },
   "file_extension": ".py",
   "mimetype": "text/x-python",
   "name": "python",
   "nbconvert_exporter": "python",
   "pygments_lexer": "ipython2",
   "version": "2.7.12"
  }
 },
 "nbformat": 4,
 "nbformat_minor": 2
}
