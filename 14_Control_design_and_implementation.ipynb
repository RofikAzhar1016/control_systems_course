{
 "cells": [
  {
   "cell_type": "code",
   "execution_count": null,
   "metadata": {
    "collapsed": true
   },
   "outputs": [],
   "source": [
    "%matplotlib inline\n",
    "import numpy as np\n",
    "import control as Ctrl\n",
    "import pylab as plt"
   ]
  },
  {
   "cell_type": "code",
   "execution_count": null,
   "metadata": {},
   "outputs": [],
   "source": [
    "# System to work with\n",
    "A = np.array([[ 0., -1.],[ 1.,  3.]])\n",
    "B = np.array([[1.],[ 0.]])\n",
    "C = np.array([[ 1., 0],[0, 1.]])\n",
    "D = np.array([[0.],[0.]])\n",
    "Sys = Ctrl.ss(A,B,C,D)\n",
    "print Ctrl.ss2tf(Sys)"
   ]
  },
  {
   "cell_type": "code",
   "execution_count": null,
   "metadata": {},
   "outputs": [],
   "source": [
    "# Is the system stable\n",
    "print(Sys.pole()) #Answer is not (possitive eigenvalues for A)"
   ]
  },
  {
   "cell_type": "code",
   "execution_count": null,
   "metadata": {},
   "outputs": [],
   "source": [
    "# Is the system controllable\n",
    "Ctrl.ctrb(A, B) #It is as the controllability matrix has a full rank"
   ]
  },
  {
   "cell_type": "code",
   "execution_count": null,
   "metadata": {},
   "outputs": [],
   "source": [
    "# Acker method, find K so that the CL system has the desire poles\n",
    "poles = [-10,-5]\n",
    "K_acker = Ctrl.acker(A,B,poles)\n",
    "print K_acker\n",
    "print(np.linalg.eigvals(A-B*K_acker))"
   ]
  },
  {
   "cell_type": "code",
   "execution_count": null,
   "metadata": {},
   "outputs": [],
   "source": [
    "# Pole placement method, find K so that the CL system has the desire poles\n",
    "poles = [-10,-5]\n",
    "K_place = Ctrl.place(A,B,poles)\n",
    "print K_place\n",
    "print(np.linalg.eigvals(A-B*K_place))"
   ]
  },
  {
   "cell_type": "code",
   "execution_count": null,
   "metadata": {},
   "outputs": [],
   "source": [
    "# Pole placement method, find K so that the CL system has the desire poles\n",
    "poles = [-10,-5]\n",
    "K_place = Ctrl.place(A,B,poles)\n",
    "print K_place\n",
    "print(np.linalg.eigvals(A-B*K_place))"
   ]
  },
  {
   "cell_type": "code",
   "execution_count": null,
   "metadata": {},
   "outputs": [],
   "source": [
    "# lqr method, find  optimal K \n",
    "Q = np.array([[1.,0.],[0.,1.]])\n",
    "R = np.array([[100.]])\n",
    "K_lqr,foo,foo = Ctrl.lqr(Sys,Q,R)\n",
    "print K_lqr\n",
    "print(np.linalg.eigvals(A-B*K_lqr))"
   ]
  }
 ],
 "metadata": {
  "kernelspec": {
   "display_name": "Python 2",
   "language": "python",
   "name": "python2"
  },
  "language_info": {
   "codemirror_mode": {
    "name": "ipython",
    "version": 2
   },
   "file_extension": ".py",
   "mimetype": "text/x-python",
   "name": "python",
   "nbconvert_exporter": "python",
   "pygments_lexer": "ipython2",
   "version": "2.7.12"
  }
 },
 "nbformat": 4,
 "nbformat_minor": 2
}
