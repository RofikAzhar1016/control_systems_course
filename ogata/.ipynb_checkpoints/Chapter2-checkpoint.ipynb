{
 "cells": [
  {
   "cell_type": "code",
   "execution_count": 22,
   "metadata": {},
   "outputs": [],
   "source": [
    "#Autores: Antoni Alomar, Andrea Cárdenas, Selene Caro, Bruno Barazin, Alejandra Vendrell, Guillem Garrofé, Paula García\n",
    "#Fecha: Junio 2018\n",
    "#Curso Sistemas de Control en LaSalle\n",
    "#Professor: Juan M. Acevedo-Valle\n",
    "\n",
    "%matplotlib inline\n",
    "import pylab as plt\n",
    "from control import tf\n",
    "import control\n",
    "import slycot\n",
    "import numpy as np\n",
    "import matplotlib\n",
    "import math\n",
    "matplotlib.rcParams.update({'font.size': 18})\n",
    "matplotlib.rcParams['figure.figsize'] = (11.0, 6.)"
   ]
  },
  {
   "cell_type": "code",
   "execution_count": 23,
   "metadata": {},
   "outputs": [
    {
     "name": "stdout",
     "output_type": "stream",
     "text": [
      "\n",
      "           50\n",
      "-----------------------\n",
      "s^3 + 7 s^2 + 20 s + 50\n",
      "\n",
      "\n",
      "   5 s^2 + 20 s + 100\n",
      "-----------------------\n",
      "s^3 + 7 s^2 + 20 s + 50\n",
      "\n",
      "\n",
      "        10 s + 50\n",
      "------------------------\n",
      "s^3 + 7 s^2 + 20 s + 100\n",
      "\n"
     ]
    }
   ],
   "source": [
    "# Program 2–1\n",
    "num1 = [10]\n",
    "den1 = [1, 2, 10]\n",
    "num2 = [5]\n",
    "den2 = [1,5]\n",
    "tf1 = tf(num1,den1)\n",
    "tf2 = tf(num2,den2)\n",
    "G1 = control.series(tf1,tf2)\n",
    "G2 = control.parallel(tf1,tf2)\n",
    "G3 = control.feedback(tf1,tf2)\n",
    "print(G1)\n",
    "print(G2)\n",
    "print(G3)"
   ]
  },
  {
   "cell_type": "code",
   "execution_count": null,
   "metadata": {},
   "outputs": [],
   "source": [
    "# Program 2–4\n",
    "num = [2, 1, 1, 2]\n",
    "den = [1, 4, 5, 2]\n",
    "G = control.tf(num, den)\n",
    "# G = control.tf2ss(num, den) # Alternative\n",
    "sys = control.tf2ss(G)\n",
    "print(G)\n",
    "print (sys)"
   ]
  }
 ],
 "metadata": {
  "kernelspec": {
   "display_name": "Python 3",
   "language": "python",
   "name": "python3"
  },
  "language_info": {
   "codemirror_mode": {
    "name": "ipython",
    "version": 3
   },
   "file_extension": ".py",
   "mimetype": "text/x-python",
   "name": "python",
   "nbconvert_exporter": "python",
   "pygments_lexer": "ipython3",
   "version": "3.6.2"
  }
 },
 "nbformat": 4,
 "nbformat_minor": 2
}
