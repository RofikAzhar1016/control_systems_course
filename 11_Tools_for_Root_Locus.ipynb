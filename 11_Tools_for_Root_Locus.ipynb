{
 "cells": [
  {
   "cell_type": "code",
   "execution_count": 1,
   "metadata": {
    "collapsed": true
   },
   "outputs": [],
   "source": [
    "import numpy as np"
   ]
  },
  {
   "cell_type": "code",
   "execution_count": 2,
   "metadata": {},
   "outputs": [
    {
     "name": "stdout",
     "output_type": "stream",
     "text": [
      "[-1.57735027 -0.42264973]\n",
      "-0.42264973081037427\n",
      "0.3849001794597505\n",
      "[-3.00000000e+00+0.j          1.74339709e-16+1.41421356j\n",
      "  1.74339709e-16-1.41421356j]\n"
     ]
    }
   ],
   "source": [
    "print np.roots([3,6,2])\n",
    "s = np.roots([3,6,2])[1]\n",
    "print s\n",
    "K = -s*(s+2)*(s+1)\n",
    "print K\n",
    "\n",
    "K=6\n",
    "print  np.roots([1,3,2,6])"
   ]
  },
  {
   "cell_type": "code",
   "execution_count": 3,
   "metadata": {},
   "outputs": [
    {
     "name": "stdout",
     "output_type": "stream",
     "text": [
      "1.7320508075688767\n"
     ]
    }
   ],
   "source": [
    "print np.tan(np.pi / 3)"
   ]
  },
  {
   "cell_type": "code",
   "execution_count": 4,
   "metadata": {},
   "outputs": [
    {
     "data": {
      "text/plain": [
       "1.7151335311572697"
      ]
     },
     "execution_count": 4,
     "metadata": {},
     "output_type": "execute_result"
    }
   ],
   "source": [
    ".578/.337"
   ]
  },
  {
   "cell_type": "code",
   "execution_count": 5,
   "metadata": {},
   "outputs": [
    {
     "data": {
      "text/plain": [
       "0.5196"
      ]
     },
     "execution_count": 5,
     "metadata": {},
     "output_type": "execute_result"
    }
   ],
   "source": [
    "1.732*.3"
   ]
  },
  {
   "cell_type": "code",
   "execution_count": 6,
   "metadata": {},
   "outputs": [
    {
     "name": "stdout",
     "output_type": "stream",
     "text": [
      "-2.094407804564866\n",
      "-0.7174187184023473\n",
      "-0.335320486319545\n",
      "3.1471470092867584\n",
      "180.31824113935056\n"
     ]
    }
   ],
   "source": [
    "re = -0.335\n",
    "im = 1.732*re\n",
    "print np.arctan2(im,re)\n",
    "print np.arctan2(im,re+1)\n",
    "print np.arctan2(im,re+2)\n",
    "CA = -np.arctan2(im,re)-np.arctan2(im,1+re)-np.arctan2(im,2+re)\n",
    "print CA\n",
    "print(np.rad2deg(CA))"
   ]
  },
  {
   "cell_type": "code",
   "execution_count": 7,
   "metadata": {},
   "outputs": [
    {
     "name": "stdout",
     "output_type": "stream",
     "text": [
      "[-1.+1.41421356j -1.-1.41421356j]\n"
     ]
    }
   ],
   "source": [
    "############Other\n",
    "print np.roots([1,2,3])"
   ]
  },
  {
   "cell_type": "code",
   "execution_count": 8,
   "metadata": {},
   "outputs": [
    {
     "name": "stdout",
     "output_type": "stream",
     "text": [
      "[-3.73205081 -0.26794919]\n"
     ]
    }
   ],
   "source": [
    "print np.roots([1,4,1])"
   ]
  },
  {
   "cell_type": "code",
   "execution_count": 9,
   "metadata": {},
   "outputs": [
    {
     "data": {
      "text/plain": [
       "144.73561031724535"
      ]
     },
     "execution_count": 9,
     "metadata": {},
     "output_type": "execute_result"
    }
   ],
   "source": [
    "-np.rad2deg(-np.arctan2(0,1))-np.rad2deg(-np.arctan2(2*np.sqrt(2),0))+np.rad2deg(np.arctan2(np.sqrt(2),1))"
   ]
  },
  {
   "cell_type": "code",
   "execution_count": 11,
   "metadata": {},
   "outputs": [
    {
     "name": "stdout",
     "output_type": "stream",
     "text": [
      "180.424287978727\n",
      "(-2.6-1.611335279848066j)\n",
      "3.2089362989314547\n",
      "3.2089362989314543\n"
     ]
    }
   ],
   "source": [
    "zeta = 0.85\n",
    "slope = np.tan(np.arccos(zeta))\n",
    "re = -2.6\n",
    "im = slope*re\n",
    "poles = np.roots([1,2,3])\n",
    "zeros = [-2]\n",
    "CA = -np.arctan2(im-np.imag(poles[0]),re-np.real(poles[0]))\\\n",
    "     -np.arctan2(im-np.imag(poles[1]),re-np.real(poles[1]))\\\n",
    "     +np.arctan2(im-np.imag(zeros[0]),re-np.real(zeros[0]))\n",
    "print(np.rad2deg(CA))\n",
    "print(im*1j+re)\n",
    "print(np.absolute(((im-np.imag(poles[0]))*1j+re-np.real(poles[0]))\n",
    "      *((im-np.imag(poles[1]))*1j+re-np.real(poles[1]))\n",
    "      /((im-np.imag(zeros[0]))*1j+re-np.real(zeros[0]))))\n",
    "print(np.absolute((im-np.imag(poles[0]))*1j+re-np.real(poles[0]))*\n",
    "      np.absolute((im-np.imag(poles[1]))*1j+re-np.real(poles[1]))/\n",
    "      np.absolute((im-np.imag(zeros[0]))*1j+re-np.real(zeros[0])))\n"
   ]
  },
  {
   "cell_type": "code",
   "execution_count": 11,
   "metadata": {
    "collapsed": true
   },
   "outputs": [],
   "source": [
    "import numpy\n",
    "x = numpy.roots([1,0,0,0,2])"
   ]
  },
  {
   "cell_type": "code",
   "execution_count": 11,
   "metadata": {},
   "outputs": [
    {
     "data": {
      "text/plain": [
       "array([-0.84089642+0.84089642j, -0.84089642-0.84089642j,\n",
       "        0.84089642+0.84089642j,  0.84089642-0.84089642j])"
      ]
     },
     "execution_count": 11,
     "metadata": {},
     "output_type": "execute_result"
    }
   ],
   "source": []
  },
  {
   "cell_type": "code",
   "execution_count": 12,
   "metadata": {},
   "outputs": [
    {
     "data": {
      "text/plain": [
       "0.6197443384031023"
      ]
     },
     "execution_count": 12,
     "metadata": {},
     "output_type": "execute_result"
    }
   ],
   "source": [
    "slope"
   ]
  }
 ],
 "metadata": {
  "kernelspec": {
   "display_name": "Python 2",
   "language": "python",
   "name": "python2"
  },
  "language_info": {
   "codemirror_mode": {
    "name": "ipython",
    "version": 2
   },
   "file_extension": ".py",
   "mimetype": "text/x-python",
   "name": "python",
   "nbconvert_exporter": "python",
   "pygments_lexer": "ipython2",
   "version": "2.7.12"
  }
 },
 "nbformat": 4,
 "nbformat_minor": 2
}
